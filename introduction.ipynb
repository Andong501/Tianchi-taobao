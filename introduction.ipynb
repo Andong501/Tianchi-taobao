{
 "cells": [
  {
   "cell_type": "markdown",
   "metadata": {},
   "source": [
    "# 天池数据挖掘大赛 | 淘宝购物推荐预测"
   ]
  },
  {
   "cell_type": "markdown",
   "metadata": {},
   "source": [
    "## 一、数据分析"
   ]
  },
  {
   "cell_type": "markdown",
   "metadata": {},
   "source": [
    "### 导入所需包"
   ]
  },
  {
   "cell_type": "code",
   "execution_count": 1,
   "metadata": {
    "collapsed": true
   },
   "outputs": [],
   "source": [
    "import matplotlib as mlt\n",
    "import matplotlib.pyplot as plt\n",
    "%matplotlib inline\n",
    "import seaborn as sns\n",
    "import numpy as np \n",
    "import pandas as pd \n",
    "import datetime\n",
    "from __future__ import division #精确除法"
   ]
  },
  {
   "cell_type": "markdown",
   "metadata": {},
   "source": [
    "### 导入原始数据"
   ]
  },
  {
   "cell_type": "code",
   "execution_count": 2,
   "metadata": {
    "collapsed": false
   },
   "outputs": [],
   "source": [
    "#import csv\n",
    "df1 = pd.read_csv('fresh_comp_offline/tianchi_fresh_comp_train_user.csv');\n",
    "df2 = pd.read_csv('fresh_comp_offline/tianchi_fresh_comp_train_item.csv');"
   ]
  },
  {
   "cell_type": "markdown",
   "metadata": {},
   "source": [
    "### 基本分析"
   ]
  },
  {
   "cell_type": "markdown",
   "metadata": {},
   "source": [
    "#### 参与用户数，参与商品数， 头部商品数"
   ]
  },
  {
   "cell_type": "code",
   "execution_count": 4,
   "metadata": {
    "collapsed": false
   },
   "outputs": [
    {
     "data": {
      "text/plain": [
       "(20000, 4758484, 422858)"
      ]
     },
     "execution_count": 4,
     "metadata": {},
     "output_type": "execute_result"
    }
   ],
   "source": [
    "#basic analusis\n",
    "#total users\n",
    "total_user = len(df1['user_id'].value_counts().index);\n",
    "#total items\n",
    "total_item = len(df1['item_id'].value_counts().index);\n",
    "#predict items\n",
    "pre_item = len(df2['item_id'].value_counts().index);\n",
    "total_user, total_item, pre_item"
   ]
  },
  {
   "cell_type": "markdown",
   "metadata": {},
   "source": [
    "#### 预测日（2014-12-18）之前每日的购买量分布"
   ]
  },
  {
   "cell_type": "code",
   "execution_count": 10,
   "metadata": {
    "collapsed": false
   },
   "outputs": [
    {
     "name": "stderr",
     "output_type": "stream",
     "text": [
      "//anaconda/lib/python2.7/site-packages/pandas/core/generic.py:3110: SettingWithCopyWarning: \n",
      "A value is trying to be set on a copy of a slice from a DataFrame.\n",
      "Try using .loc[row_indexer,col_indexer] = value instead\n",
      "\n",
      "See the caveats in the documentation: http://pandas.pydata.org/pandas-docs/stable/indexing.html#indexing-view-versus-copy\n",
      "  self[name] = value\n"
     ]
    },
    {
     "data": {
      "image/png": "[encoded data removed]",
      "text/plain": [
       "<matplotlib.figure.Figure at 0x10ff28350>"
      ]
     },
     "metadata": {},
     "output_type": "display_data"
    }
   ],
   "source": [
    "df1_par = df1.loc[df1.behavior_type==4];\n",
    "df1_par.time = pd.to_datetime(df1_par.time).values.astype('datetime64[D]');\n",
    "df1_par.set_index('time', drop=False, append=False, inplace=True, verify_integrity=False);\n",
    "df1_par = df1_par.sort_index();\n",
    "g1 = sns.countplot(x='time', data=df1_par);\n",
    "g1.set_xticklabels(g1.get_xticklabels(), rotation=90);"
   ]
  },
  {
   "cell_type": "markdown",
   "metadata": {},
   "source": [
    "#### 销量TOP100的商品分类"
   ]
  },
  {
   "cell_type": "code",
   "execution_count": 11,
   "metadata": {
    "collapsed": false
   },
   "outputs": [
    {
     "data": {
      "text/plain": [
       "6344     4454\n",
       "1863     3647\n",
       "5232     3049\n",
       "7957     2256\n",
       "6513     2195\n",
       "8877     2192\n",
       "3472     2145\n",
       "10392    1920\n",
       "1838     1861\n",
       "3424     1850\n",
       "5399     1814\n",
       "9516     1803\n",
       "13230    1753\n",
       "5027     1694\n",
       "5894     1690\n",
       "10894    1678\n",
       "6977     1675\n",
       "4370     1524\n",
       "11279    1285\n",
       "11824    1256\n",
       "3628     1228\n",
       "3064     1174\n",
       "11537    1172\n",
       "2993     1162\n",
       "2825     1154\n",
       "2901     1138\n",
       "3673     1134\n",
       "11623    1089\n",
       "7767     1088\n",
       "552      1012\n",
       "         ... \n",
       "12067     573\n",
       "9517      549\n",
       "10961     548\n",
       "10661     547\n",
       "9614      545\n",
       "12855     536\n",
       "9261      533\n",
       "6255      529\n",
       "5751      525\n",
       "9247      514\n",
       "12753     494\n",
       "13926     480\n",
       "6576      471\n",
       "8864      466\n",
       "10703     465\n",
       "11178     465\n",
       "8586      463\n",
       "8010      463\n",
       "8874      449\n",
       "4676      448\n",
       "13338     448\n",
       "2950      446\n",
       "5395      446\n",
       "292       442\n",
       "8095      438\n",
       "5550      433\n",
       "675       432\n",
       "7440      425\n",
       "5388      422\n",
       "12328     417\n",
       "Name: item_category, Length: 100, dtype: int64"
      ]
     },
     "execution_count": 11,
     "metadata": {},
     "output_type": "execute_result"
    }
   ],
   "source": [
    "df1_par.item_category.value_counts().sort_values(ascending=False).iloc[0:100]"
   ]
  },
  {
   "cell_type": "markdown",
   "metadata": {},
   "source": [
    "销量TOP100的地理位置"
   ]
  },
  {
   "cell_type": "code",
   "execution_count": 12,
   "metadata": {
    "collapsed": false
   },
   "outputs": [
    {
     "data": {
      "text/plain": [
       "mtog5dr    11\n",
       "9rnfjat    11\n",
       "mtog5db    10\n",
       "9rnfjau    10\n",
       "9rg11ct     8\n",
       "94mnr5v     8\n",
       "9rnfje7     8\n",
       "9rnfja3     8\n",
       "9rnfjek     8\n",
       "9rnfjab     8\n",
       "9rgqteu     7\n",
       "9rnfje9     7\n",
       "9rnfjep     7\n",
       "9rnfjeq     7\n",
       "9rnfjet     7\n",
       "9rnfjeh     7\n",
       "9rnfjdi     7\n",
       "9rnfjeb     7\n",
       "9rnfjaa     7\n",
       "9r7kulj     7\n",
       "mtokl7e     7\n",
       "mtog5d9     7\n",
       "mtoklhh     7\n",
       "95w9i3v     6\n",
       "9rfrpf5     6\n",
       "9rnfjav     6\n",
       "99nf2b9     6\n",
       "95f13vv     6\n",
       "9rg11ck     6\n",
       "95f6vgg     6\n",
       "           ..\n",
       "95b757n     5\n",
       "9506aho     5\n",
       "9rfrpdd     5\n",
       "99dm7dv     5\n",
       "9r7kud9     5\n",
       "95w9i2m     5\n",
       "97oki20     5\n",
       "94rlwp2     5\n",
       "95uqtju     5\n",
       "mtog5dq     5\n",
       "mt5pb1n     5\n",
       "94rlwpe     5\n",
       "94rkco3     5\n",
       "97lncgt     5\n",
       "97lncg3     5\n",
       "9r5f4jg     5\n",
       "9rg11ci     5\n",
       "9qt7q79     5\n",
       "9r2tmvr     5\n",
       "96sjo7d     5\n",
       "mtokl7a     5\n",
       "95q65cn     5\n",
       "943wq4f     5\n",
       "mtokl7j     5\n",
       "9rnfja2     5\n",
       "94rwihk     5\n",
       "954aoib     5\n",
       "94a25pe     5\n",
       "ffed1po     5\n",
       "9rf9pnn     5\n",
       "Name: user_geohash, Length: 100, dtype: int64"
      ]
     },
     "execution_count": 12,
     "metadata": {},
     "output_type": "execute_result"
    }
   ],
   "source": [
    "df1_par.user_geohash.value_counts().sort_values(ascending=False).iloc[0:100]"
   ]
  },
  {
   "cell_type": "markdown",
   "metadata": {},
   "source": [
    "#### 各行为的购买概率随时间衰减变化"
   ]
  },
  {
   "cell_type": "code",
   "execution_count": 3,
   "metadata": {
    "collapsed": false,
    "scrolled": false
   },
   "outputs": [
    {
     "name": "stderr",
     "output_type": "stream",
     "text": [
      "/anaconda/lib/python2.7/site-packages/ipykernel/__main__.py:17: FutureWarning: pandas.tslib is deprecated and will be removed in a future version.\n",
      "You can access Timedelta as pandas.Timedelta\n"
     ]
    }
   ],
   "source": [
    "df1_da = df1.loc[:, ['user_id', 'item_id', 'behavior_type', 'time']];\n",
    "df1_da.time = pd.to_datetime(df1_da.time);\n",
    "df1_da.time = df1_da.time.values.astype('datetime64[D]'); #fentch date only\n",
    "df1_da1 = df1_da;\n",
    "final_date = pd.Timestamp('2014-12-18 00:00:00');\n",
    "df1_da1.time = df1_da1.time.sub(final_date).mul(-1);\n",
    "\n",
    "s_click = (df1_da1.behavior_type==1);\n",
    "s_collec = (df1_da1.behavior_type==2);\n",
    "s_cart = (df1_da1.behavior_type==3);\n",
    "s_buy = (df1_da1.behavior_type==4);\n",
    "d1 = {'click':s_click, 'collection':s_collec, 'cart':s_cart, 'buy':s_buy};\n",
    "df1_add1 = pd.DataFrame(d1);\n",
    "df1_tol1 = pd.concat([df1_da1, df1_add1], axis=1);\n",
    "df1_tol1.set_index(['user_id', 'item_id'], drop=True, append=False, inplace=True, verify_integrity=False);\n",
    "\n",
    "s_buy1218 = ((df1_da1.time==pd.tslib.Timedelta('0 days 00:00:00')) & (df1_da1.behavior_type==4));\n",
    "d2 = {'buy1218':s_buy1218};\n",
    "df1_add2 = pd.DataFrame(d2);\n",
    "df1_tol2 = pd.concat([df1_da1, df1_add2], axis=1);\n",
    "df1_tol2.drop(['time', 'behavior_type'], axis=1, inplace=True);\n",
    "df1_tol2 = df1_tol2.loc[df1_tol2.buy1218==True];\n",
    "df1_tol2.set_index(['user_id', 'item_id'], drop=True, append=False, inplace=True, verify_integrity=False);\n",
    "\n",
    "df1_tol = df1_tol1.join(df1_tol2).fillna(False); #review join/merge/concat!"
   ]
  },
  {
   "cell_type": "markdown",
   "metadata": {},
   "source": [
    "#### 1）用户在预测日（2014-12-18）之前天数点击过且在预测日购买某商品的概率"
   ]
  },
  {
   "cell_type": "code",
   "execution_count": 70,
   "metadata": {
    "collapsed": false
   },
   "outputs": [
    {
     "data": {
      "image/png": "[encoded data removed]",
      "text/plain": [
       "<matplotlib.figure.Figure at 0x110b8aa50>"
      ]
     },
     "metadata": {},
     "output_type": "display_data"
    }
   ],
   "source": [
    "chance_click = [0]*31;\n",
    "for i in range(0,31):\n",
    "    hit = df1_tol.buy1218.loc[(df1_tol.time==pd.tslib.Timedelta(str(i)+' days 00:00:00')) & (df1_tol.click==True) & (df1_tol.buy1218==True)].value_counts(dropna=False).sum();\n",
    "    total = df1_tol.buy1218.loc[(df1_tol.time==pd.tslib.Timedelta(str(i)+' days 00:00:00')) & (df1_tol.click==True)].value_counts(dropna=False).sum();\n",
    "    chance_click[i] = hit/total;\n",
    "dic_click = {'chance_click':chance_click, 'day':range(0, 31)};\n",
    "df1_click = pd.DataFrame(dic_click);\n",
    "sns.barplot(x='day', y='chance_click', data=df1_click);"
   ]
  },
  {
   "cell_type": "markdown",
   "metadata": {},
   "source": [
    "#### 2）用户在预测日（2014-12-18）之前天数收藏过且在预测日购买某商品的概率"
   ]
  },
  {
   "cell_type": "code",
   "execution_count": 71,
   "metadata": {
    "collapsed": false
   },
   "outputs": [
    {
     "data": {
      "image/png": "[encoded data removed]",
      "text/plain": [
       "<matplotlib.figure.Figure at 0x17fed4050>"
      ]
     },
     "metadata": {},
     "output_type": "display_data"
    }
   ],
   "source": [
    "chance_collec = [0]*31;\n",
    "for i in range(0,31):\n",
    "\thit = df1_tol.buy1218.loc[(df1_tol.time==pd.tslib.Timedelta(str(i)+' days 00:00:00')) & (df1_tol.collection==True) & (df1_tol.buy1218==True)].value_counts(dropna=False).sum();\n",
    "\ttotal = df1_tol.buy1218.loc[(df1_tol.time==pd.tslib.Timedelta(str(i)+' days 00:00:00')) & (df1_tol.collection==True)].value_counts(dropna=False).sum();\n",
    "\tchance_collec[i] = hit/total;\n",
    "dic_collec = {'chance_collec':chance_collec, 'day':range(0, 31)};\n",
    "df1_collec = pd.DataFrame(dic_collec);\n",
    "sns.barplot(x='day', y='chance_collec', data=df1_collec);"
   ]
  },
  {
   "cell_type": "markdown",
   "metadata": {},
   "source": [
    "#### 3）用户在预测日（2014-12-18）之前天数加入过购物车且在预测日购买某商品的概率"
   ]
  },
  {
   "cell_type": "code",
   "execution_count": 72,
   "metadata": {
    "collapsed": false
   },
   "outputs": [
    {
     "data": {
      "image/png": "[encoded data removed]",
      "text/plain": [
       "<matplotlib.figure.Figure at 0x18008d4d0>"
      ]
     },
     "metadata": {},
     "output_type": "display_data"
    }
   ],
   "source": [
    "chance_cart = [0]*31;\n",
    "for i in range(0,31):\n",
    "\thit = df1_tol.buy1218.loc[(df1_tol.time==pd.tslib.Timedelta(str(i)+' days 00:00:00')) & (df1_tol.cart==True) & (df1_tol.buy1218==True)].value_counts(dropna=False).sum();\n",
    "\ttotal = df1_tol.buy1218.loc[(df1_tol.time==pd.tslib.Timedelta(str(i)+' days 00:00:00')) & (df1_tol.cart==True)].value_counts(dropna=False).sum();\n",
    "\tchance_cart[i] = hit/total;\n",
    "dic_cart = {'chance_cart':chance_cart, 'day':range(0, 31)};\n",
    "df1_cart = pd.DataFrame(dic_cart);\n",
    "sns.barplot(x='day', y='chance_cart', data=df1_cart);"
   ]
  },
  {
   "cell_type": "markdown",
   "metadata": {},
   "source": [
    "#### 4）用户在预测日（2014-12-18）之前天数购买过且在预测日购买某商品的概率（已做log处理）"
   ]
  },
  {
   "cell_type": "code",
   "execution_count": 73,
   "metadata": {
    "collapsed": false
   },
   "outputs": [
    {
     "data": {
      "image/png": "[encoded data removed]",
      "text/plain": [
       "<matplotlib.figure.Figure at 0x17f74b510>"
      ]
     },
     "metadata": {},
     "output_type": "display_data"
    }
   ],
   "source": [
    "chance_buy = [0]*31;\n",
    "for i in range(0,31):\n",
    "\thit = df1_tol.buy1218.loc[(df1_tol.time==pd.tslib.Timedelta(str(i)+' days 00:00:00')) & (df1_tol.buy==True) & (df1_tol.buy1218==True)].value_counts(dropna=False).sum();\n",
    "\ttotal = df1_tol.buy1218.loc[(df1_tol.time==pd.tslib.Timedelta(str(i)+' days 00:00:00')) & (df1_tol.buy==True)].value_counts(dropna=False).sum();\n",
    "\tchance_buy[i] = hit/total;\n",
    "dic_buy = {'chance_buy':chance_buy, 'day':range(0, 31)};\n",
    "df1_buy = pd.DataFrame(dic_buy);\n",
    "g4 = sns.barplot(x='day', y='chance_buy', data=df1_buy);\n",
    "g4.set_yscale('log')"
   ]
  },
  {
   "cell_type": "markdown",
   "metadata": {},
   "source": [
    "#### 预测日（2014-12-18）前一天各行为次数与预测日购买概率"
   ]
  },
  {
   "cell_type": "code",
   "execution_count": 4,
   "metadata": {
    "collapsed": true
   },
   "outputs": [],
   "source": [
    "df1_da2 = df1_da;\n",
    "df1_add3 = pd.DataFrame(d1);\n",
    "df1_tol3 = pd.concat([df1_da2, df1_add3], axis=1);\n",
    "df1_tol3.drop(['behavior_type'], axis=1, inplace=True);\n",
    "df1_tol3_gp = df1_tol3.groupby(['user_id', 'item_id', 'time']).sum(); #count and delete duplication\n",
    "\n",
    "df1_tol4 = df1_tol3.drop(['click', 'collection', 'cart'], axis=1, inplace=False);\n",
    "one_day = pd.Series(np.array([pd.tslib.Timedelta('1 days 00:00:00')]*len(df1_tol4)));\n",
    "df1_tol4.time = df1_tol4.time - one_day;\n",
    "df1_tol4_gp = df1_tol4.groupby(['user_id', 'item_id', 'time']).sum();\n",
    "df1_tol4_gp.buy = (df1_tol4_gp.buy!=0);\n",
    "\n",
    "df1_tol_gp = df1_tol3_gp.join(df1_tol4_gp, rsuffix='_next_day'); #know the meaning of buy_next_day=True/False/NaN\n",
    "df1_tol_gp.loc[:, 'buy_next_day'].fillna(False, inplace=True);"
   ]
  },
  {
   "cell_type": "markdown",
   "metadata": {},
   "source": [
    "#### 1）用户在预测日（2014-12-18）前一天的点击次数与在预测日购买该商品的概率"
   ]
  },
  {
   "cell_type": "code",
   "execution_count": 80,
   "metadata": {
    "collapsed": false
   },
   "outputs": [
    {
     "data": {
      "image/png": "[encoded data removed]",
      "text/plain": [
       "<matplotlib.figure.Figure at 0x17f154190>"
      ]
     },
     "metadata": {},
     "output_type": "display_data"
    }
   ],
   "source": [
    "sns.barplot(x='click', y='buy_next_day', data=df1_tol_gp);"
   ]
  },
  {
   "cell_type": "markdown",
   "metadata": {},
   "source": [
    "#### 2）用户在预测日（2014-12-18）前一天的收藏次数与在预测日购买该商品的概率"
   ]
  },
  {
   "cell_type": "code",
   "execution_count": 81,
   "metadata": {
    "collapsed": false
   },
   "outputs": [
    {
     "data": {
      "image/png": "[encoded data removed]",
      "text/plain": [
       "<matplotlib.figure.Figure at 0x17fd8f310>"
      ]
     },
     "metadata": {},
     "output_type": "display_data"
    }
   ],
   "source": [
    "sns.barplot(x='collection', y='buy_next_day', data=df1_tol_gp);"
   ]
  },
  {
   "cell_type": "markdown",
   "metadata": {},
   "source": [
    "#### 3）用户在预测日（2014-12-18）前一天的加入购物车次数与在预测日购买该商品的概率"
   ]
  },
  {
   "cell_type": "code",
   "execution_count": 5,
   "metadata": {
    "collapsed": false
   },
   "outputs": [
    {
     "data": {
      "image/png": "[encoded data removed]",
      "text/plain": [
       "<matplotlib.figure.Figure at 0x10f6d6cd0>"
      ]
     },
     "metadata": {},
     "output_type": "display_data"
    }
   ],
   "source": [
    "sns.barplot(x='cart', y='buy_next_day', data=df1_tol_gp);"
   ]
  },
  {
   "cell_type": "markdown",
   "metadata": {},
   "source": [
    "#### 4）用户在预测日（2014-12-18）前一天的购买次数与在预测日购买该商品的概率"
   ]
  },
  {
   "cell_type": "code",
   "execution_count": 6,
   "metadata": {
    "collapsed": false
   },
   "outputs": [
    {
     "data": {
      "image/png": "[encoded data removed]",
      "text/plain": [
       "<matplotlib.figure.Figure at 0x1e65699d0>"
      ]
     },
     "metadata": {},
     "output_type": "display_data"
    }
   ],
   "source": [
    "sns.barplot(x='buy', y='buy_next_day', data=df1_tol_gp);"
   ]
  }
 ],
 "metadata": {
  "anaconda-cloud": {},
  "kernelspec": {
   "display_name": "Python [conda root]",
   "language": "python",
   "name": "conda-root-py"
  },
  "language_info": {
   "codemirror_mode": {
    "name": "ipython",
    "version": 2
   },
   "file_extension": ".py",
   "mimetype": "text/x-python",
   "name": "python",
   "nbconvert_exporter": "python",
   "pygments_lexer": "ipython2",
   "version": "2.7.12"
  }
 },
 "nbformat": 4,
 "nbformat_minor": 1
}
